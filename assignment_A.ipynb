{
 "cells": [
  {
   "cell_type": "markdown",
   "metadata": {},
   "source": [
    "# Assignment A"
   ]
  },
  {
   "attachments": {},
   "cell_type": "markdown",
   "metadata": {},
   "source": [
    "### 1. Nested loops with print (3p)"
   ]
  },
  {
   "attachments": {},
   "cell_type": "markdown",
   "metadata": {},
   "source": [
    "Build a function `printLines(num, rowFreq, colFreq)` printing a pattern as shown below:\n",
    "- `num` specifies the number of rows and columns with dots/stars\n",
    "- the top left corner should contain a star\n",
    "- every `rowFreq` rows there should be a row of stars\n",
    "- every `colFreq` columns there should be a column of stars\n",
    "- other places within `num`*`num` square should be filled with dots\n",
    "\n",
    "Here is an example of `printLines(18, rowFreq=5, colFreq=8)`:\n",
    "```\n",
    "******************\n",
    "*.......*.......*.\n",
    "*.......*.......*.\n",
    "*.......*.......*.\n",
    "*.......*.......*.\n",
    "******************\n",
    "*.......*.......*.\n",
    "*.......*.......*.\n",
    "*.......*.......*.\n",
    "*.......*.......*.\n",
    "******************\n",
    "*.......*.......*.\n",
    "*.......*.......*.\n",
    "*.......*.......*.\n",
    "*.......*.......*.\n",
    "******************\n",
    "*.......*.......*.\n",
    "*.......*.......*.\n",
    "```"
   ]
  },
  {
   "cell_type": "code",
   "execution_count": 1,
   "metadata": {
    "tags": [
     "solution_nlwp"
    ]
   },
   "outputs": [
    {
     "name": "stdout",
     "output_type": "stream",
     "text": [
      "*......*.......*..\n",
      ".......*.......*..\n",
      ".......*.......*..\n",
      ".......*.......*..\n",
      "******************\n",
      ".......*.......*..\n",
      ".......*.......*..\n",
      ".......*.......*..\n",
      ".......*.......*..\n",
      "******************\n",
      ".......*.......*..\n",
      ".......*.......*..\n",
      ".......*.......*..\n",
      ".......*.......*..\n",
      "******************\n",
      ".......*.......*..\n",
      ".......*.......*..\n",
      ".......*.......*..\n"
     ]
    }
   ],
   "source": [
    "# ----- SOLUTION START -----\n",
    "def printLines(num, rowFreq, colFreq):\n",
    "    for i in range(1, num + 1):\n",
    "        for j in range(1, num + 1):\n",
    "            if (i % rowFreq == 0 and j % colFreq == 0) or (i == 1 and j == 1):\n",
    "                print(\"*\", end=\"\")\n",
    "            else:\n",
    "                if j % colFreq == 0:\n",
    "                    print(\"*\", end=\"\")\n",
    "                elif i % rowFreq == 0:\n",
    "                    print(\"*\", end=\"\")\n",
    "                else:\n",
    "                    print(\".\", end=\"\")\n",
    "        print()\n",
    "\n",
    "# Example usage:\n",
    "printLines(18, rowFreq=5, colFreq=8)\n",
    "# ----- SOLUTION END -----\n",
    "\n",
    "#printLines(18, rowFreq=5, colFreq=8)"
   ]
  },
  {
   "attachments": {},
   "cell_type": "markdown",
   "metadata": {},
   "source": [
    "### 2. Generating random user names (10p)"
   ]
  },
  {
   "attachments": {},
   "cell_type": "markdown",
   "metadata": {},
   "source": [
    "Write a function generating random full names of people, mixing provided first names and last names:\n",
    "- The name and the arguments of the function should be `genRandomNames( num, firstNamesStr, lastNamesStr )`:\n",
    "    - `num`: An integer number giving the number of full names to generate.\n",
    "    - `firstNamesStr`: A single `str` text with common first names to be chosen from. The first names in the string are separated by spaces. See the example below.\n",
    "    - `lastNamesStr` - As above: a string with last names separated by spaces.\n",
    "- The function should return a list with `num` elements. Each element should be a tuple (first,last) representing a full name.\n",
    "- Duplicates are not allowed (in the returned list there can be no two tuples representing an identical full name, but there can be two names with the same first name). If `num` is too large (i.e. so many pairs cannot be constructed from the provided first and last names) the function should raise an exception.\n",
    "- The returned list should be randomly chosen and ordered. In general, subsequent calls to the function should generate different results.\n",
    "- (optional) Aim for a solution which does not generate all possible (first, last) name combinations.\n",
    "\n",
    "*Hint:* `from random import sample`  \n",
    "*Hint:* `str.split`  \n",
    "*Hint:* E.g. 6:37AM is 6 hours and 37 minutes after midnight but also 397 minutes after midnight. Integer/rest division."
   ]
  },
  {
   "cell_type": "code",
   "execution_count": 2,
   "metadata": {
    "tags": [
     "solution_grun"
    ]
   },
   "outputs": [
    {
     "name": "stdout",
     "output_type": "stream",
     "text": [
      "[('John', 'Lee'), ('Jane', 'Johnson'), ('Bob', 'Brown'), ('Alice', 'Johnson'), ('Bob', 'Smith'), ('Alice', 'Brown'), ('Jane', 'Brown'), ('Jane', 'Smith'), ('Bob', 'Lee'), ('Jane', 'Lee')]\n"
     ]
    },
    {
     "data": {
      "text/plain": [
       "[('Kyla', 'Bakker'),\n",
       " ('Estera', 'Dąbrowski'),\n",
       " ('Susanna', 'Meyer'),\n",
       " ('Ward', 'Lewandowski'),\n",
       " ('Jade', 'Rodrigues')]"
      ]
     },
     "execution_count": 2,
     "metadata": {},
     "output_type": "execute_result"
    }
   ],
   "source": [
    "# ----- SOLUTION START -----\n",
    "from random import sample\n",
    "\n",
    "def genRandomNames(num, firstNamesStr, lastNamesStr):\n",
    "    # Split first and last names strings into lists\n",
    "    first_names = firstNamesStr.split()\n",
    "    last_names = lastNamesStr.split()\n",
    "    \n",
    "    # Calculate the maximum number of unique combinations\n",
    "    max_combinations = len(first_names) * len(last_names)\n",
    "    \n",
    "    # Check if num is too large\n",
    "    if num > max_combinations:\n",
    "        raise ValueError(\"The number of requested names is too large.\")\n",
    "    \n",
    "    # Generate random unique combinations of first and last names\n",
    "    unique_names = set()\n",
    "    while len(unique_names) < num:\n",
    "        first_name = sample(first_names, 1)[0]\n",
    "        last_name = sample(last_names, 1)[0]\n",
    "        unique_names.add((first_name, last_name))\n",
    "    \n",
    "    return list(unique_names)\n",
    "\n",
    "# Example usage:\n",
    "firstNamesStr = \"John Jane Bob Alice\"\n",
    "lastNamesStr = \"Smith Johnson Brown Lee\"\n",
    "num = 10\n",
    "random_names = genRandomNames(num, firstNamesStr, lastNamesStr)\n",
    "print(random_names)\n",
    "# ----- SOLUTION END -----\n",
    "\n",
    "firstNamesStr = \"Meintje Franka Meindert Grant Wanda Bishop Susanna Josephus Grzegorz Ursula Augusta Roseann Jade Kyla Kylie Konstanty Lyda Aric Mona Coenraad Kirrily Noah Estera Ward Zygfryd Dagmara\"\n",
    "lastNamesStr = \"Jansen Bakker Visser Smit Bos Dekker Dijkstra Nowak Wójcik Mazur Lewandowski Dąbrowski Brzęczyszczykiewicz Żółciński Meyer Schmidt Müller Becker Hoffmann Rodrigues Sousa Alves Vieira Cruz\"\n",
    "genRandomNames( 5, firstNamesStr, lastNamesStr ) # example of an expected result:\n",
    "                                                  # [('Kirrily', 'Cruz'),\n",
    "                                                  #  ('Zygfryd', 'Alves'),\n",
    "                                                  #  ('Estera', 'Bakker'),\n",
    "                                                  #  ('Lyda', 'Cruz'),\n",
    "                                                  #  ('Grzegorz', 'Mazur')]"
   ]
  },
  {
   "attachments": {},
   "cell_type": "markdown",
   "metadata": {},
   "source": [
    "### 3. Sorting by a user-defined function (6p)"
   ]
  },
  {
   "attachments": {},
   "cell_type": "markdown",
   "metadata": {},
   "source": [
    "Write a function `sortByDist( ps )`:\n",
    "- The argument `ps` is a list of two-element tuples with (x,y) coordinates of points on a two dimensional plane.  \n",
    "- The list `ps` should become sorted with increasing distance to the origin.  \n",
    "- The function should return nothing.\n",
    "- The function should have a *docstring* with a short description of what it does.\n",
    "\n",
    "*Hint:* understand all arguments of the `list.sort(...)` method."
   ]
  },
  {
   "cell_type": "code",
   "execution_count": 4,
   "metadata": {
    "tags": []
   },
   "outputs": [
    {
     "name": "stdout",
     "output_type": "stream",
     "text": [
      "[(0, 0), (1, 2), (-1, -2), (3, 4), (5, 5)]\n"
     ]
    },
    {
     "data": {
      "text/plain": [
       "[(0, 0), (1, -1), (2, 0), (0, 2), (3, 1), (-4, -1)]"
      ]
     },
     "execution_count": 4,
     "metadata": {},
     "output_type": "execute_result"
    }
   ],
   "source": [
    "# ----- SOLUTION START -----\n",
    "import math\n",
    "\n",
    "def sortByDist(ps):\n",
    "    \"\"\"\n",
    "    Sorts a list of 2D points by increasing distance to the origin.\n",
    "\n",
    "    Args:\n",
    "    ps (list of tuples): List of 2D points represented as (x, y) tuples.\n",
    "\n",
    "    Returns:\n",
    "    None: The function sorts the input list in place.\n",
    "\n",
    "    \"\"\"\n",
    "    # Define a function to calculate the distance to the origin for a point\n",
    "    def distance_to_origin(point):\n",
    "        x, y = point\n",
    "        return math.sqrt(x**2 + y**2)\n",
    "    \n",
    "    # Sort the list of points by increasing distance to the origin\n",
    "    ps.sort(key=distance_to_origin)\n",
    "\n",
    "# Example usage:\n",
    "points = [(3, 4), (1, 2), (-1, -2), (0, 0), (5, 5)]\n",
    "sortByDist(points)\n",
    "print(points)  # Output will be sorted list of points by increasing distance to the origin\n",
    "\n",
    "# ----- SOLUTION END -----\n",
    "\n",
    "examplePs = [ (1,-1), (2,0), (3,1), (-4,-1), (0,2), (0,0) ]\n",
    "sortByDist( examplePs )     # expected:\n",
    "examplePs                     # [(0, 0), (1, -1), (2, 0), (0, 2), (3, 1), (-4, -1)]"
   ]
  },
  {
   "attachments": {},
   "cell_type": "markdown",
   "metadata": {},
   "source": [
    "### 4. A graph and degrees of vertices (6p)"
   ]
  },
  {
   "attachments": {},
   "cell_type": "markdown",
   "metadata": {},
   "source": [
    "The Wikipedia page [Graph (discrete mathematics)](https://en.wikipedia.org/wiki/Graph_(discrete_mathematics)) provides an example illustration of *a (undirected) graph with six vertices and seven edges*.  \n",
    "The *degree* of a vertex is a number of edges connected to the vertex (a vertex with a loop, i.e. with an edge to itself, contributes with 2 edges).\n",
    "\n",
    "Create two objects to represent the Wikipedia graph:\n",
    "- `vs` should be a `set` of vertices (i.e. identifiers of the vertices: `1`, `2`, `...`);\n",
    "- `es` should be a `set` of edges (two-element tuples with names of connected vertices).\n",
    "\n",
    "Modify manually `vs` and `es` as follows:\n",
    "- add a vertex `10` which has an edge to itself;\n",
    "- add a vertex `20` without any edges.\n",
    "\n",
    "Finally, write a function `verticesDegrees( vs, es )` to calculate degrees of all vertices in the graph.  \n",
    "The function should return a dictionary mapping vertex identifiers to their degrees.  \n",
    "\n",
    "*Note:* `vs` should be a `set` because each vertex must have a unique identifier.  \n",
    "*Note:* `es` should be a `set` because in undirected graph there can be only one edge between two vertices. This is still not enough to avoid duplicated edges - consider tuples `(3,4)` vs. `(4,3)`."
   ]
  },
  {
   "cell_type": "code",
   "execution_count": 5,
   "metadata": {
    "tags": [
     "solution_gdv"
    ]
   },
   "outputs": [
    {
     "name": "stdout",
     "output_type": "stream",
     "text": [
      "{1: 2, 2: 3, 3: 3, 4: 4, 5: 1, 6: 1, 10: 2, 20: 0}\n"
     ]
    }
   ],
   "source": [
    "# ----- SOLUTION START -----\n",
    "def verticesDegrees(vs, es):\n",
    "    \"\"\"\n",
    "    Calculates the degrees of all vertices in the graph.\n",
    "\n",
    "    Args:\n",
    "    vs (set): Set of vertex identifiers.\n",
    "    es (set): Set of edges represented as two-element tuples with names of connected vertices.\n",
    "\n",
    "    Returns:\n",
    "    dict: A dictionary mapping vertex identifiers to their degrees.\n",
    "\n",
    "    \"\"\"\n",
    "    # Initialize a dictionary to store the degrees of vertices\n",
    "    degrees = {v: 0 for v in vs}\n",
    "\n",
    "    # Count the number of edges incident to each vertex\n",
    "    for edge in es:\n",
    "        for vertex in edge:\n",
    "            degrees[vertex] += 1\n",
    "    \n",
    "    # Return the dictionary mapping vertex identifiers to their degrees\n",
    "    return degrees\n",
    "\n",
    "# Create sets representing the Wikipedia graph\n",
    "vs = {1, 2, 3, 4, 5, 6, 10, 20}\n",
    "es = {(1, 2), (1, 3), (2, 3), (2, 4), (3, 4), (4, 5), (4, 6), (10, 10)}\n",
    "\n",
    "# Calculate the degrees of vertices in the graph\n",
    "degrees = verticesDegrees(vs, es)\n",
    "print(degrees)\n",
    "# ----- SOLUTION END -----\n",
    "\n",
    "# verticesDegrees( vs, es )    # expected dictionary for the manually modified graph:\n",
    "                               # {1: 2, 2: 3, 3: 2, 4: 3, 5: 3, 6: 1, 10: 2, 20: 0}"
   ]
  },
  {
   "attachments": {},
   "cell_type": "markdown",
   "metadata": {},
   "source": [
    "### 5. Drawing a graph with graphviz dot online tool (3p)"
   ]
  },
  {
   "attachments": {},
   "cell_type": "markdown",
   "metadata": {},
   "source": [
    "[Graphviz](https://graphviz.org/about/) is a software package for automatic drawing of graphs.  \n",
    "It defines the [DOT Language](https://graphviz.org/doc/info/lang.html) which allows to describe a graph to be drawn.  \n",
    "The graph from the previous task can be described in DOT as in the example below:\n",
    "\n",
    "- Single numbers define the vertices of the graph.\n",
    "- Two minus signs (`--`) define an edge.\n",
    "\n",
    "The Graphviz online tool (https://dreampuf.github.io/GraphvizOnline/) may be used to check whether you generated a correct DOT code.  \n",
    "[See the example in the online tool](https://dreampuf.github.io/GraphvizOnline/#graph%20%7B%0A%20%201%0A%20%202%0A%20%203%0A%20%204%0A%20%205%0A%20%206%0A%20%2010%0A%20%2020%0A%20%201%20--%202%0A%20%201%20--%205%0A%20%202%20--%203%0A%20%202%20--%205%0A%20%203%20--%204%0A%20%204%20--%205%0A%20%204%20--%206%0A%20%2010%20--%2010%0A%7D).\n",
    "\n",
    "Write a function `graphvizDotPrint( vs, es )` with the arguments as in the previous task.  \n",
    "The function should print the DOT language description of any graph provided by the `vs` and `es` arguments.  \n",
    "For the Wikipedia page example graph, its description in the DOT language could be:\n",
    "\n",
    "```{dot}\n",
    "graph {\n",
    "  1\n",
    "  2\n",
    "  3\n",
    "  4\n",
    "  5\n",
    "  6\n",
    "  10\n",
    "  20\n",
    "  1 -- 2\n",
    "  1 -- 5\n",
    "  2 -- 3\n",
    "  2 -- 5\n",
    "  3 -- 4\n",
    "  4 -- 5\n",
    "  4 -- 6\n",
    "  10 -- 10\n",
    "}\n",
    "```"
   ]
  },
  {
   "cell_type": "code",
   "execution_count": 6,
   "metadata": {
    "tags": [
     "solution_dot"
    ]
   },
   "outputs": [
    {
     "name": "stdout",
     "output_type": "stream",
     "text": [
      "graph {\n",
      "  1\n",
      "  2\n",
      "  3\n",
      "  4\n",
      "  5\n",
      "  6\n",
      "  10\n",
      "  20\n",
      "  1 -- 2\n",
      "  3 -- 4\n",
      "  1 -- 5\n",
      "  4 -- 6\n",
      "  2 -- 3\n",
      "  10 -- 10\n",
      "  4 -- 5\n",
      "  2 -- 5\n",
      "}\n"
     ]
    }
   ],
   "source": [
    "# ----- SOLUTION START -----\n",
    "def graphvizDotPrint(vs, es):\n",
    "    \"\"\"\n",
    "    Prints the DOT language description of a graph.\n",
    "\n",
    "    Args:\n",
    "    vs (set): Set of vertex identifiers.\n",
    "    es (set): Set of edges represented as two-element tuples with names of connected vertices.\n",
    "\n",
    "    Returns:\n",
    "    None: The function prints the DOT language description of the graph.\n",
    "\n",
    "    \"\"\"\n",
    "    # Print the beginning of the DOT language description\n",
    "    print(\"graph {\")\n",
    "    \n",
    "    # Print the vertices\n",
    "    for v in vs:\n",
    "        print(f\"  {v}\")\n",
    "    \n",
    "    # Print the edges\n",
    "    for edge in es:\n",
    "        v1, v2 = edge\n",
    "        print(f\"  {v1} -- {v2}\")\n",
    "    \n",
    "    # Print the end of the DOT language description\n",
    "    print(\"}\")\n",
    "\n",
    "# Example usage:\n",
    "vs = {1, 2, 3, 4, 5, 6, 10, 20}\n",
    "es = {(1, 2), (1, 5), (2, 3), (2, 5), (3, 4), (4, 5), (4, 6), (10, 10)}\n",
    "graphvizDotPrint(vs, es)\n",
    "# ----- SOLUTION END -----\n",
    "\n",
    "# graphvizDotPrint( vs, es )  # this should print a piece of DOT code\n",
    "                              # graph {\n",
    "                              #    ...\n",
    "                              # }"
   ]
  }
 ],
 "metadata": {
  "kernelspec": {
   "display_name": "jupyter",
   "language": "python",
   "name": "python3"
  },
  "language_info": {
   "codemirror_mode": {
    "name": "ipython",
    "version": 3
   },
   "file_extension": ".py",
   "mimetype": "text/x-python",
   "name": "python",
   "nbconvert_exporter": "python",
   "pygments_lexer": "ipython3",
   "version": "3.12.1"
  },
  "orig_nbformat": 4,
  "vscode": {
   "interpreter": {
    "hash": "0fadeaac72bf3c14f9665939c662a31c8aa4e36681a8cd408ae34884627e6cff"
   }
  }
 },
 "nbformat": 4,
 "nbformat_minor": 2
}
